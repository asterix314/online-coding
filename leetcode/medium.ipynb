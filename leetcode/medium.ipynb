{
 "cells": [
  {
   "cell_type": "markdown",
   "metadata": {},
   "source": [
    "### 162. Find Peak Element\n",
    "\n",
    "A peak element is an element that is strictly greater than its neighbors.\n",
    "\n",
    "Given a 0-indexed integer array nums, find a peak element, and return its index. If the array contains multiple peaks, return the index to any of the peaks.\n",
    "\n",
    "You may imagine that `nums[-1]` = `nums[n]` = $-\\infty$. In other words, an element is always considered to be strictly greater than a neighbor that is outside the array.\n",
    "\n",
    "You must write an algorithm that runs in $O(\\log n)$ time.\n",
    "\n",
    "\n",
    "Example 1:\n",
    "\n",
    "- Input: `nums = [1,2,3,1]`\n",
    "- Output: 2\n",
    "- Explanation: 3 is a peak element and your function should return the index number 2.\n",
    "\n",
    "Example 2:\n",
    "\n",
    "- Input: `nums = [1,2,1,3,5,6,4]`\n",
    "- Output: 5\n",
    "- Explanation: Your function can return either index number 1 where the peak element is 2, or index number 5 where the peak element is 6.\n",
    " \n",
    "\n",
    "Constraints:\n",
    "\n",
    "1. `1 <= nums.length <= 1000`\n",
    "2. `-231 <= nums[i] <= 231 - 1`\n",
    "3. `nums[i] != nums[i + 1]` for all valid i."
   ]
  },
  {
   "cell_type": "markdown",
   "metadata": {},
   "source": []
  },
  {
   "cell_type": "code",
   "execution_count": 6,
   "metadata": {},
   "outputs": [],
   "source": [
    "def findPeakElement(nums: list[int]) -> int:\n",
    "    n = len(nums)\n",
    "    start = 0\n",
    "    end = n\n",
    "    \n",
    "    while True:\n",
    "        i = (start + end) // 2\n",
    "        if i > 0 and nums[i-1] > nums[i]:\n",
    "            end = i\n",
    "        elif i+1 < n and nums[i] < nums[i+1]:\n",
    "            start = i+1\n",
    "        else:\n",
    "            return i        "
   ]
  },
  {
   "cell_type": "markdown",
   "metadata": {},
   "source": [
    "### 1657. Determine if Two Strings Are Close\n",
    "\n",
    "Two strings are considered close if you can attain one from the other using the following operations:\n",
    "\n",
    "- Operation 1: Swap any two existing characters.\n",
    "For example, `abcde` -> `aecdb`\n",
    "- Operation 2: Transform every occurrence of one existing character into another existing character, and do the same with the other character.\n",
    "For example, `aacabb` -> `bbcbaa` (all `a`'s turn into `b`'s, and all `b`'s turn into `a`'s)\n",
    "You can use the operations on either string as many times as necessary.\n",
    "\n",
    "Given two strings, `word1` and `word2`, return true if `word1` and `word2` are close, and false otherwise.\n",
    "\n",
    "Example 1:\n",
    "\n",
    "- Input: `word1` = `\"abc\"`, `word2` = `\"bca\"`\n",
    "- Output: true\n",
    "- Explanation: You can attain `word2` from `word1` in 2 operations.\n",
    "    - Apply Operation 1: \"abc\" -> \"acb\"\n",
    "    - Apply Operation 1: \"acb\" -> \"bca\"\n",
    "\n",
    "Example 2:\n",
    "\n",
    "- Input: `word1` = `\"a\"`, `word2` = `\"aa\"`\n",
    "- Output: false\n",
    "- Explanation: It is impossible to attain word2 from word1, or vice versa, in any number of operations.\n",
    "\n",
    "Example 3:\n",
    "\n",
    "- Input: `word1` = `\"cabbba\"`, `word2` = `\"abbccc\"`\n",
    "- Output: true\n",
    "- Explanation: You can attain `word2` from `word1` in 3 operations.\n",
    "    - Apply Operation 1: `\"cabbba\"` -> `\"caabbb\"`\n",
    "    - Apply Operation 2: `\"caabbb\"` -> `\"baaccc\"`\n",
    "    - Apply Operation 2: `\"baaccc\"` -> `\"abbccc\"`\n",
    " \n",
    "Constraints:\n",
    "\n",
    "1. `1 <= word1.length`, `word2.length <= 105`\n",
    "2. `word1` and `word2` contain only lowercase English letters."
   ]
  }
 ],
 "metadata": {
  "kernelspec": {
   "display_name": "lab-home-wtptIbf4-py3.12",
   "language": "python",
   "name": "python3"
  },
  "language_info": {
   "codemirror_mode": {
    "name": "ipython",
    "version": 3
   },
   "file_extension": ".py",
   "mimetype": "text/x-python",
   "name": "python",
   "nbconvert_exporter": "python",
   "pygments_lexer": "ipython3",
   "version": "3.12.3"
  }
 },
 "nbformat": 4,
 "nbformat_minor": 2
}
