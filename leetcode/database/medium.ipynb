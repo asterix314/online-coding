{
 "cells": [
  {
   "cell_type": "code",
   "execution_count": 49,
   "id": "4b5d1bb1-8c02-4d42-aa63-5893b6e28ce7",
   "metadata": {},
   "outputs": [],
   "source": [
    "from pathlib import Path\n",
    "\n",
    "import polars as pl\n",
    "from polars import col\n",
    "import numpy as np\n",
    "\n",
    "DATA_DIR = Path(\"../../data/\")"
   ]
  },
  {
   "cell_type": "markdown",
   "id": "9dc6a810-197f-4381-9035-4990f18cd8d2",
   "metadata": {
    "jp-MarkdownHeadingCollapsed": true
   },
   "source": [
    "### [176. Second Highest Salary](https://leetcode.com/problems/second-highest-salary/)"
   ]
  },
  {
   "cell_type": "code",
   "execution_count": 2,
   "id": "22d2e65b-2eaa-4ec0-bc9d-16d09cb8315d",
   "metadata": {
    "editable": true,
    "slideshow": {
     "slide_type": ""
    },
    "tags": []
   },
   "outputs": [
    {
     "name": "stdout",
     "output_type": "stream",
     "text": [
      "shape: (3, 2)\n",
      "┌─────┬────────┐\n",
      "│ id  ┆ salary │\n",
      "│ --- ┆ ---    │\n",
      "│ i64 ┆ i64    │\n",
      "╞═════╪════════╡\n",
      "│ 1   ┆ 100    │\n",
      "│ 2   ┆ 200    │\n",
      "│ 3   ┆ 300    │\n",
      "└─────┴────────┘ shape: (1, 2)\n",
      "┌─────┬────────┐\n",
      "│ id  ┆ salary │\n",
      "│ --- ┆ ---    │\n",
      "│ i64 ┆ i64    │\n",
      "╞═════╪════════╡\n",
      "│ 1   ┆ 100    │\n",
      "└─────┴────────┘\n"
     ]
    }
   ],
   "source": [
    "dfs=[pl.read_csv(DATA_DIR / file) for file in [\"176_1.csv\", \"176_2.csv\"]]\n",
    "print(*dfs)"
   ]
  },
  {
   "cell_type": "markdown",
   "id": "296720f9-441d-4063-9ae1-2f747b40dbaa",
   "metadata": {},
   "source": [
    "MySQL\n",
    "```mysql\n",
    "select max(salary) as SecondHighestSalary\n",
    "from Employee\n",
    "where salary < (select max(salary) from Employee)\n",
    "```"
   ]
  },
  {
   "cell_type": "code",
   "execution_count": 3,
   "id": "5ea88528-43c5-4553-805b-b61feac9be3b",
   "metadata": {},
   "outputs": [
    {
     "name": "stdout",
     "output_type": "stream",
     "text": [
      "shape: (1, 1)\n",
      "┌─────────────────────┐\n",
      "│ SecondHighestSalary │\n",
      "│ ---                 │\n",
      "│ i64                 │\n",
      "╞═════════════════════╡\n",
      "│ 200                 │\n",
      "└─────────────────────┘ shape: (1, 1)\n",
      "┌─────────────────────┐\n",
      "│ SecondHighestSalary │\n",
      "│ ---                 │\n",
      "│ i64                 │\n",
      "╞═════════════════════╡\n",
      "│ null                │\n",
      "└─────────────────────┘\n"
     ]
    }
   ],
   "source": [
    "def lc_176(df: pl.DataFrame) -> pl.DataFrame:\n",
    "    return (\n",
    "        df.filter(pl.col(\"salary\") < pl.max(\"salary\"))\n",
    "        .select(pl.max(\"salary\").alias(\"SecondHighestSalary\"))\n",
    "    )\n",
    "    \n",
    "print(*[lc_176(df) for df in dfs])"
   ]
  },
  {
   "cell_type": "markdown",
   "id": "34e8b52a-720a-4107-9f3c-0d2334464cf6",
   "metadata": {
    "jp-MarkdownHeadingCollapsed": true
   },
   "source": [
    "### [180. Consecutive Numbers](https://leetcode.com/problems/consecutive-numbers/)"
   ]
  },
  {
   "cell_type": "code",
   "execution_count": 54,
   "id": "32ab35b9-e813-426b-ab14-28246b0933f2",
   "metadata": {
    "editable": true,
    "jupyter": {
     "source_hidden": true
    },
    "scrolled": true,
    "slideshow": {
     "slide_type": ""
    },
    "tags": []
   },
   "outputs": [
    {
     "name": "stdout",
     "output_type": "stream",
     "text": [
      "shape: (7, 2)\n",
      "┌─────┬─────┐\n",
      "│ id  ┆ num │\n",
      "│ --- ┆ --- │\n",
      "│ i64 ┆ i64 │\n",
      "╞═════╪═════╡\n",
      "│ 1   ┆ 1   │\n",
      "│ 2   ┆ 1   │\n",
      "│ 3   ┆ 1   │\n",
      "│ 4   ┆ 2   │\n",
      "│ 5   ┆ 1   │\n",
      "│ 6   ┆ 2   │\n",
      "│ 7   ┆ 2   │\n",
      "└─────┴─────┘\n"
     ]
    }
   ],
   "source": [
    "print(df := pl.read_csv(DATA_DIR / \"180.csv\"))"
   ]
  },
  {
   "cell_type": "markdown",
   "id": "c35f4fb1-ecf8-4f8b-ab38-a4c14d30baf2",
   "metadata": {},
   "source": [
    "MySQL\n",
    "```mysql\n",
    "with t as (\n",
    "    select id, num as num1, \n",
    "        lead(num) over w as num2,\n",
    "        lead(num, 2) over w as num3\n",
    "    from Logs\n",
    "    window w as (order by id))\n",
    "select distinct num1 as ConsecutiveNums\n",
    "from t\n",
    "where num1 = num2 and num2 = num3\n",
    "```"
   ]
  },
  {
   "cell_type": "code",
   "execution_count": 68,
   "id": "47e048dd-6543-4e5c-867c-32cdd25419a4",
   "metadata": {},
   "outputs": [
    {
     "name": "stdout",
     "output_type": "stream",
     "text": [
      "shape: (1, 1)\n",
      "┌─────────────────┐\n",
      "│ ConsecutiveNums │\n",
      "│ ---             │\n",
      "│ i64             │\n",
      "╞═════════════════╡\n",
      "│ 1               │\n",
      "└─────────────────┘\n"
     ]
    }
   ],
   "source": [
    "print(\n",
    "    df.sort(\"id\")\n",
    "    .filter(col(\"num\")==col(\"num\").shift(1), col(\"num\")==col(\"num\").shift(2))\n",
    "    .select(col(\"num\").unique().alias(\"ConsecutiveNums\"))\n",
    ")"
   ]
  },
  {
   "cell_type": "markdown",
   "id": "3371ead7-83f2-4ece-9fea-c2350202ca3a",
   "metadata": {
    "jp-MarkdownHeadingCollapsed": true
   },
   "source": [
    "### [184. Department Highest Salary](https://leetcode.com/problems/department-highest-salary/)"
   ]
  },
  {
   "cell_type": "code",
   "execution_count": 4,
   "id": "60e81d45-947a-498b-bed8-94ddb966fcfb",
   "metadata": {
    "editable": true,
    "scrolled": true,
    "slideshow": {
     "slide_type": ""
    },
    "tags": []
   },
   "outputs": [
    {
     "name": "stdout",
     "output_type": "stream",
     "text": [
      "shape: (5, 4)\n",
      "┌─────┬───────┬────────┬──────────────┐\n",
      "│ id  ┆ name  ┆ salary ┆ departmentId │\n",
      "│ --- ┆ ---   ┆ ---    ┆ ---          │\n",
      "│ i64 ┆ str   ┆ i64    ┆ i64          │\n",
      "╞═════╪═══════╪════════╪══════════════╡\n",
      "│ 1   ┆ Joe   ┆ 70000  ┆ 1            │\n",
      "│ 2   ┆ Jim   ┆ 90000  ┆ 1            │\n",
      "│ 3   ┆ Henry ┆ 80000  ┆ 2            │\n",
      "│ 4   ┆ Sam   ┆ 60000  ┆ 2            │\n",
      "│ 5   ┆ Max   ┆ 90000  ┆ 1            │\n",
      "└─────┴───────┴────────┴──────────────┘ shape: (2, 2)\n",
      "┌─────┬───────┐\n",
      "│ id  ┆ name  │\n",
      "│ --- ┆ ---   │\n",
      "│ i64 ┆ str   │\n",
      "╞═════╪═══════╡\n",
      "│ 1   ┆ IT    │\n",
      "│ 2   ┆ Sales │\n",
      "└─────┴───────┘\n"
     ]
    }
   ],
   "source": [
    "df_department = pl.read_csv(DATA_DIR / \"184_department.csv\")\n",
    "df_employee = pl.read_csv(DATA_DIR / \"184_employee.csv\")\n",
    "print(df_employee, df_department)"
   ]
  },
  {
   "cell_type": "markdown",
   "id": "f5c48b00-4a24-4507-9ccc-2a8d63a4a393",
   "metadata": {},
   "source": [
    "MySQL\n",
    "```mysql\n",
    "with e as (\n",
    "    select *, rank() over (partition by departmentId order by salary desc) as r\n",
    "    from Employee)\n",
    "select d.name as \"Department\", e.name as \"Employee\", e.salary as \"Salary\"\n",
    "from e inner join Department as d\n",
    "    on e.departmentId = d.id\n",
    "where r = 1\n",
    "```"
   ]
  },
  {
   "cell_type": "code",
   "execution_count": 5,
   "id": "d005ed12-af05-44cf-83be-900987ce1dc2",
   "metadata": {
    "scrolled": true
   },
   "outputs": [
    {
     "name": "stdout",
     "output_type": "stream",
     "text": [
      "shape: (3, 3)\n",
      "┌────────────┬──────────┬────────┐\n",
      "│ Department ┆ Employee ┆ Salary │\n",
      "│ ---        ┆ ---      ┆ ---    │\n",
      "│ str        ┆ str      ┆ i64    │\n",
      "╞════════════╪══════════╪════════╡\n",
      "│ IT         ┆ Jim      ┆ 90000  │\n",
      "│ Sales      ┆ Henry    ┆ 80000  │\n",
      "│ IT         ┆ Max      ┆ 90000  │\n",
      "└────────────┴──────────┴────────┘\n"
     ]
    }
   ],
   "source": [
    "print(\n",
    "    df_employee.filter(salary=pl.col(\"salary\").max().over(\"departmentId\"))\n",
    "    .join(df_department, left_on=\"departmentId\", right_on=\"id\")\n",
    "    .select(Department=\"name_right\", Employee=\"name\", Salary=\"salary\")\n",
    ")"
   ]
  },
  {
   "cell_type": "markdown",
   "id": "473db1a0-a2ac-4a82-a393-29a88f9fe22f",
   "metadata": {
    "jp-MarkdownHeadingCollapsed": true
   },
   "source": [
    "### [185. Department Top Three Salaries](https://leetcode.com/problems/department-top-three-salaries/)"
   ]
  },
  {
   "cell_type": "code",
   "execution_count": 6,
   "id": "12173d69-b9bf-41fd-bb6f-3dbb64eea219",
   "metadata": {
    "editable": true,
    "scrolled": true,
    "slideshow": {
     "slide_type": ""
    },
    "tags": []
   },
   "outputs": [
    {
     "name": "stdout",
     "output_type": "stream",
     "text": [
      "department: shape: (2, 2)\n",
      "┌─────┬───────┐\n",
      "│ id  ┆ name  │\n",
      "│ --- ┆ ---   │\n",
      "│ i64 ┆ str   │\n",
      "╞═════╪═══════╡\n",
      "│ 1   ┆ IT    │\n",
      "│ 2   ┆ Sales │\n",
      "└─────┴───────┘\n",
      "employee: shape: (7, 4)\n",
      "┌─────┬───────┬────────┬──────────────┐\n",
      "│ id  ┆ name  ┆ salary ┆ departmentId │\n",
      "│ --- ┆ ---   ┆ ---    ┆ ---          │\n",
      "│ i64 ┆ str   ┆ i64    ┆ i64          │\n",
      "╞═════╪═══════╪════════╪══════════════╡\n",
      "│ 1   ┆ Joe   ┆ 85000  ┆ 1            │\n",
      "│ 2   ┆ Henry ┆ 80000  ┆ 2            │\n",
      "│ 3   ┆ Sam   ┆ 60000  ┆ 2            │\n",
      "│ 4   ┆ Max   ┆ 90000  ┆ 1            │\n",
      "│ 5   ┆ Janet ┆ 69000  ┆ 1            │\n",
      "│ 6   ┆ Randy ┆ 85000  ┆ 1            │\n",
      "│ 7   ┆ Will  ┆ 70000  ┆ 1            │\n",
      "└─────┴───────┴────────┴──────────────┘\n"
     ]
    }
   ],
   "source": [
    "df_department = pl.read_csv(DATA_DIR / \"185_department.csv\")\n",
    "df_employee = pl.read_csv(DATA_DIR / \"185_employee.csv\")\n",
    "print(\"department:\", df_department)\n",
    "print(\"employee:\", df_employee)"
   ]
  },
  {
   "cell_type": "markdown",
   "id": "e4a9d71e-0b04-44ed-9965-f985c70f7493",
   "metadata": {},
   "source": [
    "MySQL\n",
    "```mysql\n",
    "with e as (\n",
    "    select *, dense_rank() over (partition by departmentId order by salary desc) as r\n",
    "    from Employee)\n",
    "select \n",
    "    d.name as Department,\n",
    "    e.name as Employee,\n",
    "    e.salary as Salary\n",
    "from e inner join Department as d\n",
    "on e.departmentId = d.id\n",
    "where r <= 3\n",
    "```"
   ]
  },
  {
   "cell_type": "code",
   "execution_count": 7,
   "id": "0037ef3a-15e8-41d8-aa6f-2ecf7cf9f110",
   "metadata": {},
   "outputs": [
    {
     "name": "stdout",
     "output_type": "stream",
     "text": [
      "shape: (6, 3)\n",
      "┌────────────┬──────────┬────────┐\n",
      "│ Department ┆ Employee ┆ Salary │\n",
      "│ ---        ┆ ---      ┆ ---    │\n",
      "│ str        ┆ str      ┆ i64    │\n",
      "╞════════════╪══════════╪════════╡\n",
      "│ IT         ┆ Joe      ┆ 85000  │\n",
      "│ Sales      ┆ Henry    ┆ 80000  │\n",
      "│ Sales      ┆ Sam      ┆ 60000  │\n",
      "│ IT         ┆ Max      ┆ 90000  │\n",
      "│ IT         ┆ Randy    ┆ 85000  │\n",
      "│ IT         ┆ Will     ┆ 70000  │\n",
      "└────────────┴──────────┴────────┘\n"
     ]
    }
   ],
   "source": [
    "print(\n",
    "    df_employee.filter(pl.col(\"salary\").rank(\"dense\", descending=True).over(\"departmentId\") <= 3)\n",
    "    .join(df_department, left_on=\"departmentId\", right_on=\"id\")\n",
    "    .select(Department=\"name_right\", Employee=\"name\", Salary=\"salary\")\n",
    ")"
   ]
  },
  {
   "cell_type": "markdown",
   "id": "e976b64c-77d1-4d67-8843-76238cb7093e",
   "metadata": {
    "jp-MarkdownHeadingCollapsed": true
   },
   "source": [
    "### [262. Trips and Users](https://leetcode.com/problems/trips-and-users/)"
   ]
  },
  {
   "cell_type": "code",
   "execution_count": 9,
   "id": "12ec8713-129c-4471-acfe-c116b997ef10",
   "metadata": {
    "editable": true,
    "slideshow": {
     "slide_type": ""
    },
    "tags": []
   },
   "outputs": [
    {
     "name": "stdout",
     "output_type": "stream",
     "text": [
      "trips: shape: (10, 6)\n",
      "┌─────┬───────────┬───────────┬─────────┬─────────────────────┬────────────┐\n",
      "│ id  ┆ client_id ┆ driver_id ┆ city_id ┆ status              ┆ request_at │\n",
      "│ --- ┆ ---       ┆ ---       ┆ ---     ┆ ---                 ┆ ---        │\n",
      "│ i64 ┆ i64       ┆ i64       ┆ i64     ┆ str                 ┆ date       │\n",
      "╞═════╪═══════════╪═══════════╪═════════╪═════════════════════╪════════════╡\n",
      "│ 1   ┆ 1         ┆ 10        ┆ 1       ┆ completed           ┆ 2013-10-01 │\n",
      "│ 2   ┆ 2         ┆ 11        ┆ 1       ┆ cancelled_by_driver ┆ 2013-10-01 │\n",
      "│ 3   ┆ 3         ┆ 12        ┆ 6       ┆ completed           ┆ 2013-10-01 │\n",
      "│ 4   ┆ 4         ┆ 13        ┆ 6       ┆ cancelled_by_client ┆ 2013-10-01 │\n",
      "│ …   ┆ …         ┆ …         ┆ …       ┆ …                   ┆ …          │\n",
      "│ 7   ┆ 3         ┆ 12        ┆ 6       ┆ completed           ┆ 2013-10-02 │\n",
      "│ 8   ┆ 2         ┆ 12        ┆ 12      ┆ completed           ┆ 2013-10-03 │\n",
      "│ 9   ┆ 3         ┆ 10        ┆ 12      ┆ completed           ┆ 2013-10-03 │\n",
      "│ 10  ┆ 4         ┆ 13        ┆ 12      ┆ cancelled_by_driver ┆ 2013-10-03 │\n",
      "└─────┴───────────┴───────────┴─────────┴─────────────────────┴────────────┘\n",
      "users: shape: (8, 3)\n",
      "┌──────────┬────────┬────────┐\n",
      "│ users_id ┆ banned ┆ role   │\n",
      "│ ---      ┆ ---    ┆ ---    │\n",
      "│ i64      ┆ str    ┆ str    │\n",
      "╞══════════╪════════╪════════╡\n",
      "│ 1        ┆ No     ┆ client │\n",
      "│ 2        ┆ Yes    ┆ client │\n",
      "│ 3        ┆ No     ┆ client │\n",
      "│ 4        ┆ No     ┆ client │\n",
      "│ 10       ┆ No     ┆ driver │\n",
      "│ 11       ┆ No     ┆ driver │\n",
      "│ 12       ┆ No     ┆ driver │\n",
      "│ 13       ┆ No     ┆ driver │\n",
      "└──────────┴────────┴────────┘\n"
     ]
    }
   ],
   "source": [
    "df_trips = pl.read_csv(DATA_DIR / \"262_trips.csv\", dtypes={\"request_at\": pl.Date})\n",
    "df_users = pl.read_csv(DATA_DIR / \"262_users.csv\")\n",
    "print(\"trips:\", df_trips)\n",
    "print(\"users:\", df_users)"
   ]
  },
  {
   "cell_type": "markdown",
   "id": "d590f408-62b2-4e70-9b01-47b7cd4a2ee7",
   "metadata": {},
   "source": [
    "MySQL\n",
    "```mysql\n",
    "select request_at as \"Day\", \n",
    "    round(avg(status != 'completed'), 2) as \"Cancellation Rate\"\n",
    "from Trips t\n",
    "where request_at between '2013-10-01' and '2013-10-03'\n",
    "    and not exists (\n",
    "        select 1 from Users\n",
    "        where banned = 'Yes' and users_id in (t.client_id, t.driver_id)\n",
    "    )\n",
    "group by request_at\n",
    "```"
   ]
  },
  {
   "cell_type": "code",
   "execution_count": 30,
   "id": "d9a434dd-38e8-40ef-8411-dd8b9538e45b",
   "metadata": {
    "scrolled": true
   },
   "outputs": [
    {
     "name": "stdout",
     "output_type": "stream",
     "text": [
      "shape: (3, 2)\n",
      "┌────────────┬───────────────────┐\n",
      "│ Day        ┆ Cancellation Rate │\n",
      "│ ---        ┆ ---               │\n",
      "│ date       ┆ f64               │\n",
      "╞════════════╪═══════════════════╡\n",
      "│ 2013-10-03 ┆ 0.5               │\n",
      "│ 2013-10-02 ┆ 0.0               │\n",
      "│ 2013-10-01 ┆ 0.33              │\n",
      "└────────────┴───────────────────┘\n"
     ]
    }
   ],
   "source": [
    "print(\n",
    "    df_trips.filter(\n",
    "        ~pl.col(\"driver_id\").is_in(banned:=df_users.filter(banned=\"Yes\").get_column(\"users_id\")),\n",
    "        ~pl.col(\"client_id\").is_in(banned),\n",
    "        pl.col(\"request_at\").is_between(pl.date(2013, 10, 1), pl.date(2013, 10, 3)))\n",
    "    .group_by(pl.col(\"request_at\").alias(\"Day\"))\n",
    "    .agg((pl.col(\"status\") != \"completed\").mean().round(2).alias(\"Cancellation Rate\"))\n",
    ")"
   ]
  },
  {
   "cell_type": "markdown",
   "id": "386a3664-a125-4395-89a0-1108c0ac8ce6",
   "metadata": {
    "jp-MarkdownHeadingCollapsed": true
   },
   "source": [
    "### [601. Human Traffic of Stadium](https://leetcode.com/problems/human-traffic-of-stadium/)"
   ]
  },
  {
   "cell_type": "code",
   "execution_count": 31,
   "id": "4cedcbed-bd78-4e10-b8e8-3c4159d0aae5",
   "metadata": {
    "editable": true,
    "scrolled": true,
    "slideshow": {
     "slide_type": ""
    },
    "tags": []
   },
   "outputs": [
    {
     "name": "stdout",
     "output_type": "stream",
     "text": [
      "shape: (8, 3)\n",
      "┌─────┬────────────┬────────┐\n",
      "│ id  ┆ visit_date ┆ people │\n",
      "│ --- ┆ ---        ┆ ---    │\n",
      "│ i64 ┆ date       ┆ i64    │\n",
      "╞═════╪════════════╪════════╡\n",
      "│ 1   ┆ 2017-01-01 ┆ 10     │\n",
      "│ 2   ┆ 2017-01-02 ┆ 109    │\n",
      "│ 3   ┆ 2017-01-03 ┆ 150    │\n",
      "│ 4   ┆ 2017-01-04 ┆ 99     │\n",
      "│ 5   ┆ 2017-01-05 ┆ 145    │\n",
      "│ 6   ┆ 2017-01-06 ┆ 1455   │\n",
      "│ 7   ┆ 2017-01-07 ┆ 199    │\n",
      "│ 8   ┆ 2017-01-09 ┆ 188    │\n",
      "└─────┴────────────┴────────┘\n"
     ]
    }
   ],
   "source": [
    "df = pl.read_csv(DATA_DIR / \"601.csv\", dtypes={\"visit_date\": pl.Date})\n",
    "print(df)"
   ]
  },
  {
   "cell_type": "markdown",
   "id": "cfb9c387-caa8-4519-a887-b0eb295511fc",
   "metadata": {},
   "source": [
    "MySQL\n",
    "```mysql\n",
    "with cte as (\n",
    "    select *,\n",
    "        lag(id, 2) over w as id1,\n",
    "        lag(id, 1) over w as id2,\n",
    "        lead(id, 1) over w as id4,\n",
    "        lead(id, 2) over w as id5\n",
    "    from Stadium\n",
    "    where people >= 100\n",
    "    window w as (order by id))\n",
    "select id, visit_date, people\n",
    "from cte\n",
    "where\n",
    "    (id = id4-1 and id = id5-2) or\n",
    "    (id = id2+1 and id = id4-1) or\n",
    "    (id1 = id-2 and id2 - id-1)\n",
    "order by visit_date\n",
    "```"
   ]
  },
  {
   "cell_type": "markdown",
   "id": "f4ebaff2-35b8-4ec0-879f-46b7d5060686",
   "metadata": {},
   "source": [
    "[gaps and island](https://www.mssqltips.com/sqlservertutorial/9130/sql-server-window-functions-gaps-and-islands-problem/)"
   ]
  },
  {
   "cell_type": "code",
   "execution_count": 53,
   "id": "6d34209d-ccf7-420b-bc4d-939a6234741c",
   "metadata": {
    "scrolled": true
   },
   "outputs": [
    {
     "name": "stdout",
     "output_type": "stream",
     "text": [
      "shape: (4, 3)\n",
      "┌─────┬────────────┬────────┐\n",
      "│ id  ┆ visit_date ┆ people │\n",
      "│ --- ┆ ---        ┆ ---    │\n",
      "│ i64 ┆ date       ┆ i64    │\n",
      "╞═════╪════════════╪════════╡\n",
      "│ 5   ┆ 2017-01-05 ┆ 145    │\n",
      "│ 6   ┆ 2017-01-06 ┆ 1455   │\n",
      "│ 7   ┆ 2017-01-07 ┆ 199    │\n",
      "│ 8   ┆ 2017-01-09 ┆ 188    │\n",
      "└─────┴────────────┴────────┘\n"
     ]
    }
   ],
   "source": [
    "print(\n",
    "    df.filter(col(\"people\") >= 100)\n",
    "    .sort(\"id\")\n",
    "    .filter(pl.count().over(col(\"id\") - col(\"id\").cum_count()) >= 3)\n",
    ")"
   ]
  }
 ],
 "metadata": {
  "kernelspec": {
   "display_name": "Python 3 (ipykernel)",
   "language": "python",
   "name": "python3"
  },
  "language_info": {
   "codemirror_mode": {
    "name": "ipython",
    "version": 3
   },
   "file_extension": ".py",
   "mimetype": "text/x-python",
   "name": "python",
   "nbconvert_exporter": "python",
   "pygments_lexer": "ipython3",
   "version": "3.10.12"
  }
 },
 "nbformat": 4,
 "nbformat_minor": 5
}
