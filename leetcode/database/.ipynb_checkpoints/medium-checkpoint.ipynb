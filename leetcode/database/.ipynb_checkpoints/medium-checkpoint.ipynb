{
 "cells": [
  {
   "cell_type": "code",
   "execution_count": 1,
   "id": "4b5d1bb1-8c02-4d42-aa63-5893b6e28ce7",
   "metadata": {},
   "outputs": [],
   "source": [
    "from pathlib import Path\n",
    "\n",
    "import polars as pl\n",
    "import numpy as np\n",
    "\n",
    "DATA_DIR = Path(\"../../data/\")"
   ]
  },
  {
   "cell_type": "markdown",
   "id": "9dc6a810-197f-4381-9035-4990f18cd8d2",
   "metadata": {},
   "source": [
    "### [176. Second Highest Salary](https://leetcode.com/problems/second-highest-salary/)"
   ]
  },
  {
   "cell_type": "code",
   "execution_count": 2,
   "id": "22d2e65b-2eaa-4ec0-bc9d-16d09cb8315d",
   "metadata": {
    "editable": true,
    "slideshow": {
     "slide_type": ""
    },
    "tags": []
   },
   "outputs": [
    {
     "name": "stdout",
     "output_type": "stream",
     "text": [
      "shape: (3, 2)\n",
      "┌─────┬────────┐\n",
      "│ id  ┆ salary │\n",
      "│ --- ┆ ---    │\n",
      "│ i64 ┆ i64    │\n",
      "╞═════╪════════╡\n",
      "│ 1   ┆ 100    │\n",
      "│ 2   ┆ 200    │\n",
      "│ 3   ┆ 300    │\n",
      "└─────┴────────┘ shape: (1, 2)\n",
      "┌─────┬────────┐\n",
      "│ id  ┆ salary │\n",
      "│ --- ┆ ---    │\n",
      "│ i64 ┆ i64    │\n",
      "╞═════╪════════╡\n",
      "│ 1   ┆ 100    │\n",
      "└─────┴────────┘\n"
     ]
    }
   ],
   "source": [
    "dfs=[pl.read_csv(DATA_DIR / file) for file in [\"176_1.csv\", \"176_2.csv\"]]\n",
    "print(*dfs)"
   ]
  },
  {
   "cell_type": "markdown",
   "id": "296720f9-441d-4063-9ae1-2f747b40dbaa",
   "metadata": {},
   "source": [
    "MySQL\n",
    "```mysql\n",
    "select max(salary) as SecondHighestSalary\n",
    "from Employee\n",
    "where salary < (select max(salary) from Employee)\n",
    "```"
   ]
  },
  {
   "cell_type": "code",
   "execution_count": 4,
   "id": "5ea88528-43c5-4553-805b-b61feac9be3b",
   "metadata": {},
   "outputs": [
    {
     "name": "stdout",
     "output_type": "stream",
     "text": [
      "shape: (1, 1)\n",
      "┌─────────────────────┐\n",
      "│ SecondHighestSalary │\n",
      "│ ---                 │\n",
      "│ i64                 │\n",
      "╞═════════════════════╡\n",
      "│ 200                 │\n",
      "└─────────────────────┘ shape: (1, 1)\n",
      "┌─────────────────────┐\n",
      "│ SecondHighestSalary │\n",
      "│ ---                 │\n",
      "│ i64                 │\n",
      "╞═════════════════════╡\n",
      "│ null                │\n",
      "└─────────────────────┘\n"
     ]
    }
   ],
   "source": [
    "def lc_176(df: pl.DataFrame) -> pl.DataFrame:\n",
    "    return (\n",
    "        df.filter(pl.col(\"salary\") < pl.max(\"salary\"))\n",
    "        .select(pl.max(\"salary\").alias(\"SecondHighestSalary\"))\n",
    "    )\n",
    "    \n",
    "print(*[lc_176(df) for df in dfs])"
   ]
  },
  {
   "cell_type": "markdown",
   "id": "3371ead7-83f2-4ece-9fea-c2350202ca3a",
   "metadata": {},
   "source": [
    "### [184. Department Highest Salary](https://leetcode.com/problems/department-highest-salary/)"
   ]
  },
  {
   "cell_type": "code",
   "execution_count": 6,
   "id": "60e81d45-947a-498b-bed8-94ddb966fcfb",
   "metadata": {
    "editable": true,
    "scrolled": true,
    "slideshow": {
     "slide_type": ""
    },
    "tags": []
   },
   "outputs": [
    {
     "name": "stdout",
     "output_type": "stream",
     "text": [
      "shape: (5, 4)\n",
      "┌─────┬───────┬────────┬──────────────┐\n",
      "│ id  ┆ name  ┆ salary ┆ departmentId │\n",
      "│ --- ┆ ---   ┆ ---    ┆ ---          │\n",
      "│ i64 ┆ str   ┆ i64    ┆ i64          │\n",
      "╞═════╪═══════╪════════╪══════════════╡\n",
      "│ 1   ┆ Joe   ┆ 70000  ┆ 1            │\n",
      "│ 2   ┆ Jim   ┆ 90000  ┆ 1            │\n",
      "│ 3   ┆ Henry ┆ 80000  ┆ 2            │\n",
      "│ 4   ┆ Sam   ┆ 60000  ┆ 2            │\n",
      "│ 5   ┆ Max   ┆ 90000  ┆ 1            │\n",
      "└─────┴───────┴────────┴──────────────┘ shape: (2, 2)\n",
      "┌─────┬───────┐\n",
      "│ id  ┆ name  │\n",
      "│ --- ┆ ---   │\n",
      "│ i64 ┆ str   │\n",
      "╞═════╪═══════╡\n",
      "│ 1   ┆ IT    │\n",
      "│ 2   ┆ Sales │\n",
      "└─────┴───────┘\n"
     ]
    }
   ],
   "source": [
    "df_department = pl.read_csv(DATA_DIR / \"184_department.csv\")\n",
    "df_employee = pl.read_csv(DATA_DIR / \"184_employee.csv\")\n",
    "print(df_employee, df_department)"
   ]
  },
  {
   "cell_type": "markdown",
   "id": "f5c48b00-4a24-4507-9ccc-2a8d63a4a393",
   "metadata": {},
   "source": [
    "MySQL\n",
    "```mysql\n",
    "with e as (\n",
    "    select *, rank() over (partition by departmentId order by salary desc) as r\n",
    "    from Employee)\n",
    "select d.name as \"Department\", e.name as \"Employee\", e.salary as \"Salary\"\n",
    "from e inner join Department as d\n",
    "    on e.departmentId = d.id\n",
    "where r = 1\n",
    "```"
   ]
  },
  {
   "cell_type": "code",
   "execution_count": 14,
   "id": "d005ed12-af05-44cf-83be-900987ce1dc2",
   "metadata": {},
   "outputs": [
    {
     "name": "stdout",
     "output_type": "stream",
     "text": [
      "shape: (2, 3)\n",
      "┌────────────┬──────────┬────────┐\n",
      "│ Department ┆ Employee ┆ Salary │\n",
      "│ ---        ┆ ---      ┆ ---    │\n",
      "│ str        ┆ str      ┆ i64    │\n",
      "╞════════════╪══════════╪════════╡\n",
      "│ IT         ┆ Jim      ┆ 90000  │\n",
      "│ Sales      ┆ Henry    ┆ 80000  │\n",
      "└────────────┴──────────┴────────┘\n"
     ]
    }
   ],
   "source": [
    "print(\n",
    "    df_employee.group_by(\"departmentId\")\n",
    "    .map_groups(lambda g: g.top_k(1, by=\"salary\"))\n",
    "    .join(df_department, left_on=\"departmentId\", right_on=\"id\")\n",
    "    .select(\n",
    "        pl.col(\"name_right\").alias(\"Department\"), \n",
    "        pl.col(\"name\").alias(\"Employee\"),\n",
    "        pl.col(\"salary\").alias(\"Salary\")\n",
    "    )\n",
    ")"
   ]
  },
  {
   "cell_type": "code",
   "execution_count": 22,
   "id": "09b956df-7888-41e9-85e9-5ac68bd3cf12",
   "metadata": {},
   "outputs": [
    {
     "name": "stdout",
     "output_type": "stream",
     "text": [
      "shape: (3, 3)\n",
      "┌────────────┬──────────┬────────┐\n",
      "│ Department ┆ Employee ┆ Salary │\n",
      "│ ---        ┆ ---      ┆ ---    │\n",
      "│ str        ┆ str      ┆ i64    │\n",
      "╞════════════╪══════════╪════════╡\n",
      "│ IT         ┆ Jim      ┆ 90000  │\n",
      "│ Sales      ┆ Henry    ┆ 80000  │\n",
      "│ IT         ┆ Max      ┆ 90000  │\n",
      "└────────────┴──────────┴────────┘\n"
     ]
    }
   ],
   "source": [
    "print(\n",
    "    df_employee.group_by(\"departmentId\")\n",
    "    .agg(pl.col(\"salary\").max())\n",
    "    .join(df_department, left_on=\"departmentId\", right_on=\"id\")\n",
    "    .join(df_employee, on=(\"departmentId\", \"salary\"))\n",
    "    .select(\n",
    "        pl.col(\"name\").alias(\"Department\"),\n",
    "        pl.col(\"name_right\").alias(\"Employee\"),\n",
    "        pl.col(\"salary\").alias(\"Salary\")\n",
    "    )\n",
    ")"
   ]
  },
  {
   "cell_type": "code",
   "execution_count": null,
   "id": "9be08342-f7b8-4b51-9e55-429dc6c23e9f",
   "metadata": {},
   "outputs": [],
   "source": []
  }
 ],
 "metadata": {
  "kernelspec": {
   "display_name": "Python 3 (ipykernel)",
   "language": "python",
   "name": "python3"
  },
  "language_info": {
   "codemirror_mode": {
    "name": "ipython",
    "version": 3
   },
   "file_extension": ".py",
   "mimetype": "text/x-python",
   "name": "python",
   "nbconvert_exporter": "python",
   "pygments_lexer": "ipython3",
   "version": "3.10.12"
  }
 },
 "nbformat": 4,
 "nbformat_minor": 5
}
