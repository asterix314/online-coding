{
 "cells": [
  {
   "cell_type": "code",
   "execution_count": 1,
   "id": "4b5d1bb1-8c02-4d42-aa63-5893b6e28ce7",
   "metadata": {},
   "outputs": [],
   "source": [
    "from pathlib import Path\n",
    "\n",
    "import polars as pl\n",
    "import numpy as np\n",
    "\n",
    "DATA_DIR = Path(\"../../data/\")"
   ]
  },
  {
   "cell_type": "markdown",
   "id": "9dc6a810-197f-4381-9035-4990f18cd8d2",
   "metadata": {},
   "source": [
    "### [1693. Daily Leads and Partners](https://leetcode.com/problems/daily-leads-and-partners/)"
   ]
  },
  {
   "cell_type": "code",
   "execution_count": 2,
   "id": "22d2e65b-2eaa-4ec0-bc9d-16d09cb8315d",
   "metadata": {},
   "outputs": [
    {
     "name": "stdout",
     "output_type": "stream",
     "text": [
      "shape: (10, 4)\n",
      "┌────────────┬───────────┬─────────┬────────────┐\n",
      "│ date_id    ┆ make_name ┆ lead_id ┆ partner_id │\n",
      "│ ---        ┆ ---       ┆ ---     ┆ ---        │\n",
      "│ date       ┆ str       ┆ i64     ┆ i64        │\n",
      "╞════════════╪═══════════╪═════════╪════════════╡\n",
      "│ 2020-12-08 ┆ toyota    ┆ 0       ┆ 1          │\n",
      "│ 2020-12-08 ┆ toyota    ┆ 1       ┆ 0          │\n",
      "│ 2020-12-08 ┆ toyota    ┆ 1       ┆ 2          │\n",
      "│ 2020-12-07 ┆ toyota    ┆ 0       ┆ 2          │\n",
      "│ …          ┆ …         ┆ …       ┆ …          │\n",
      "│ 2020-12-08 ┆ honda     ┆ 2       ┆ 1          │\n",
      "│ 2020-12-07 ┆ honda     ┆ 0       ┆ 1          │\n",
      "│ 2020-12-07 ┆ honda     ┆ 1       ┆ 2          │\n",
      "│ 2020-12-07 ┆ honda     ┆ 2       ┆ 1          │\n",
      "└────────────┴───────────┴─────────┴────────────┘\n"
     ]
    }
   ],
   "source": [
    "print(df:=pl.read_csv(DATA_DIR / \"1693.csv\", dtypes={\"date_id\": pl.Date}))"
   ]
  },
  {
   "cell_type": "markdown",
   "id": "318aeb5f-171c-46c0-a86f-13d1ff468ffb",
   "metadata": {
    "editable": true,
    "slideshow": {
     "slide_type": ""
    },
    "tags": []
   },
   "source": [
    "MySQL\n",
    "```sql\n",
    "select date_id, make_name, \n",
    "    count(distinct lead_id) as unique_leads,\n",
    "    count(distinct partner_id) as unique_partners\n",
    "from DailySales\n",
    "group by date_id, make_name\n",
    "```"
   ]
  },
  {
   "cell_type": "code",
   "execution_count": 3,
   "id": "c77ec42c-c903-4f19-a74d-d3dc0fdff6d1",
   "metadata": {
    "editable": true,
    "slideshow": {
     "slide_type": ""
    },
    "tags": []
   },
   "outputs": [
    {
     "name": "stdout",
     "output_type": "stream",
     "text": [
      "shape: (4, 4)\n",
      "┌────────────┬───────────┬────────────────┬─────────────────┐\n",
      "│ date_id    ┆ make_name ┆ unique_leaders ┆ unique_partners │\n",
      "│ ---        ┆ ---       ┆ ---            ┆ ---             │\n",
      "│ date       ┆ str       ┆ u32            ┆ u32             │\n",
      "╞════════════╪═══════════╪════════════════╪═════════════════╡\n",
      "│ 2020-12-08 ┆ toyota    ┆ 2              ┆ 3               │\n",
      "│ 2020-12-07 ┆ honda     ┆ 3              ┆ 2               │\n",
      "│ 2020-12-07 ┆ toyota    ┆ 1              ┆ 2               │\n",
      "│ 2020-12-08 ┆ honda     ┆ 2              ┆ 2               │\n",
      "└────────────┴───────────┴────────────────┴─────────────────┘\n"
     ]
    }
   ],
   "source": [
    "print(\n",
    "    df.group_by(\"date_id\", \"make_name\")\n",
    "    .agg(\n",
    "        pl.n_unique(\"lead_id\").alias(\"unique_leaders\"),\n",
    "        pl.n_unique(\"partner_id\").alias(\"unique_partners\"))\n",
    ")"
   ]
  },
  {
   "cell_type": "markdown",
   "id": "fa45564e-62b8-401f-a0d6-1616cc113dd8",
   "metadata": {},
   "source": [
    "### [1741. Find Total Time Spent by Each Employee](https://leetcode.com/problems/find-total-time-spent-by-each-employee/)"
   ]
  },
  {
   "cell_type": "code",
   "execution_count": 4,
   "id": "146c215c-e057-4e9f-8316-18a48f564d75",
   "metadata": {},
   "outputs": [
    {
     "name": "stdout",
     "output_type": "stream",
     "text": [
      "shape: (5, 4)\n",
      "┌────────┬────────────┬─────────┬──────────┐\n",
      "│ emp_id ┆ event_day  ┆ in_time ┆ out_time │\n",
      "│ ---    ┆ ---        ┆ ---     ┆ ---      │\n",
      "│ i64    ┆ date       ┆ i64     ┆ i64      │\n",
      "╞════════╪════════════╪═════════╪══════════╡\n",
      "│ 1      ┆ 2020-11-28 ┆ 4       ┆ 32       │\n",
      "│ 1      ┆ 2020-11-28 ┆ 55      ┆ 200      │\n",
      "│ 1      ┆ 2020-12-03 ┆ 1       ┆ 42       │\n",
      "│ 2      ┆ 2020-11-28 ┆ 3       ┆ 33       │\n",
      "│ 2      ┆ 2020-12-09 ┆ 47      ┆ 74       │\n",
      "└────────┴────────────┴─────────┴──────────┘\n"
     ]
    }
   ],
   "source": [
    "print(df:=pl.read_csv(DATA_DIR / \"1741.csv\", dtypes={\"event_day\": pl.Date}))"
   ]
  },
  {
   "cell_type": "markdown",
   "id": "0e6657cb-0d26-42b8-a08d-0a0124c93890",
   "metadata": {},
   "source": [
    "MySQL\n",
    "```sql\n",
    "select event_day as day, emp_id, \n",
    "    sum(out_time - in_time) as total_time\n",
    "from Employees\n",
    "group by emp_id, event_day\n",
    "```"
   ]
  },
  {
   "cell_type": "code",
   "execution_count": 5,
   "id": "4978e925-0c38-4a84-b95c-c5aa42691322",
   "metadata": {
    "editable": true,
    "slideshow": {
     "slide_type": ""
    },
    "tags": []
   },
   "outputs": [
    {
     "name": "stdout",
     "output_type": "stream",
     "text": [
      "shape: (4, 3)\n",
      "┌────────────┬────────┬───────────┐\n",
      "│ day        ┆ emp_id ┆ tota_time │\n",
      "│ ---        ┆ ---    ┆ ---       │\n",
      "│ date       ┆ i64    ┆ i64       │\n",
      "╞════════════╪════════╪═══════════╡\n",
      "│ 2020-11-28 ┆ 1      ┆ 173       │\n",
      "│ 2020-11-28 ┆ 2      ┆ 30        │\n",
      "│ 2020-12-09 ┆ 2      ┆ 27        │\n",
      "│ 2020-12-03 ┆ 1      ┆ 41        │\n",
      "└────────────┴────────┴───────────┘\n"
     ]
    }
   ],
   "source": [
    "print(\n",
    "    df.group_by(pl.col(\"event_day\").alias(\"day\"), \"emp_id\")\n",
    "    .agg(tota_time=(pl.col(\"out_time\") - pl.col(\"in_time\")).sum())\n",
    ")"
   ]
  },
  {
   "cell_type": "markdown",
   "id": "82ed7528-a135-43f0-bda8-5f1abd1d48db",
   "metadata": {
    "jp-MarkdownHeadingCollapsed": true
   },
   "source": [
    "### [1795. Rearrange Products Table](https://leetcode.com/problems/rearrange-products-table/description/)"
   ]
  },
  {
   "cell_type": "code",
   "execution_count": 8,
   "id": "b3f0bb59-27ba-4c86-a40f-15fba801cb1d",
   "metadata": {},
   "outputs": [
    {
     "name": "stdout",
     "output_type": "stream",
     "text": [
      "shape: (2, 4)\n",
      "┌────────────┬────────┬────────┬────────┐\n",
      "│ product_id ┆ store1 ┆ store2 ┆ store3 │\n",
      "│ ---        ┆ ---    ┆ ---    ┆ ---    │\n",
      "│ i64        ┆ i64    ┆ i64    ┆ i64    │\n",
      "╞════════════╪════════╪════════╪════════╡\n",
      "│ 0          ┆ 95     ┆ 100    ┆ 105    │\n",
      "│ 1          ┆ 70     ┆ null   ┆ 80     │\n",
      "└────────────┴────────┴────────┴────────┘\n"
     ]
    }
   ],
   "source": [
    "print(df:=pl.read_csv(DATA_DIR / \"1795.csv\", null_values=\"null\"))"
   ]
  },
  {
   "cell_type": "markdown",
   "id": "1d118354-445d-4ec2-8eaf-22f596ab27fa",
   "metadata": {},
   "source": [
    "PostgreSQL\n",
    "```postgresql\n",
    "select *\n",
    "from (\n",
    "    select product_id,\n",
    "        unnest(array['store1', 'store2', 'store3']) as store,\n",
    "        unnest(array[store1, store2, store3]) as price\n",
    "    from Products\n",
    "    ) as p\n",
    "where price >= 0\n",
    "```"
   ]
  },
  {
   "cell_type": "code",
   "execution_count": 9,
   "id": "51d27cd4-df8b-4bf9-8d99-75b675a8808e",
   "metadata": {
    "editable": true,
    "slideshow": {
     "slide_type": ""
    },
    "tags": []
   },
   "outputs": [
    {
     "name": "stdout",
     "output_type": "stream",
     "text": [
      "shape: (5, 3)\n",
      "┌────────────┬────────┬───────┐\n",
      "│ product_id ┆ store  ┆ price │\n",
      "│ ---        ┆ ---    ┆ ---   │\n",
      "│ i64        ┆ str    ┆ i64   │\n",
      "╞════════════╪════════╪═══════╡\n",
      "│ 0          ┆ store1 ┆ 95    │\n",
      "│ 1          ┆ store1 ┆ 70    │\n",
      "│ 0          ┆ store2 ┆ 100   │\n",
      "│ 0          ┆ store3 ┆ 105   │\n",
      "│ 1          ┆ store3 ┆ 80    │\n",
      "└────────────┴────────┴───────┘\n"
     ]
    }
   ],
   "source": [
    "print(\n",
    "    df.melt(id_vars=\"product_id\", variable_name=\"store\", value_name=\"price\")\n",
    "    .filter(pl.col(\"price\") >= 0)\n",
    ")"
   ]
  },
  {
   "cell_type": "markdown",
   "id": "579f8e86-15c1-43f8-bd6d-267b95b47c4a",
   "metadata": {},
   "source": [
    "### [1873. Calculate Special Bonus](https://leetcode.com/problems/calculate-special-bonus/)"
   ]
  },
  {
   "cell_type": "code",
   "execution_count": 8,
   "id": "f80adc30-b0b3-4253-b1fe-c53c84a5c0a1",
   "metadata": {},
   "outputs": [
    {
     "name": "stdout",
     "output_type": "stream",
     "text": [
      "shape: (5, 3)\n",
      "┌─────────────┬─────────┬────────┐\n",
      "│ employee_id ┆ name    ┆ salary │\n",
      "│ ---         ┆ ---     ┆ ---    │\n",
      "│ i64         ┆ str     ┆ i64    │\n",
      "╞═════════════╪═════════╪════════╡\n",
      "│ 2           ┆ Meir    ┆ 3000   │\n",
      "│ 3           ┆ Michael ┆ 3800   │\n",
      "│ 7           ┆ Addilyn ┆ 7400   │\n",
      "│ 8           ┆ Juan    ┆ 6100   │\n",
      "│ 9           ┆ Kannon  ┆ 7700   │\n",
      "└─────────────┴─────────┴────────┘\n"
     ]
    }
   ],
   "source": [
    "print(df:=pl.read_csv(DATA_DIR / \"1873.csv\"))"
   ]
  },
  {
   "cell_type": "markdown",
   "id": "d524f8db-9a4c-4704-9b49-cc0f53462944",
   "metadata": {},
   "source": [
    "MySQL\n",
    "```mysql\n",
    "select employee_id,\n",
    "    case when employee_id % 2 and name not like 'M%' then salary\n",
    "    else 0 end as bonus\n",
    "from Employees\n",
    "order by employee_id\n",
    "```"
   ]
  },
  {
   "cell_type": "code",
   "execution_count": 10,
   "id": "e5eaa659-de2a-4836-8614-b5a5b3b9e159",
   "metadata": {
    "editable": true,
    "scrolled": true,
    "slideshow": {
     "slide_type": ""
    },
    "tags": []
   },
   "outputs": [
    {
     "name": "stdout",
     "output_type": "stream",
     "text": [
      "shape: (5, 2)\n",
      "┌─────────────┬───────┐\n",
      "│ employee_id ┆ bonus │\n",
      "│ ---         ┆ ---   │\n",
      "│ i64         ┆ i64   │\n",
      "╞═════════════╪═══════╡\n",
      "│ 2           ┆ 0     │\n",
      "│ 3           ┆ 0     │\n",
      "│ 7           ┆ 7400  │\n",
      "│ 8           ┆ 0     │\n",
      "│ 9           ┆ 7700  │\n",
      "└─────────────┴───────┘\n"
     ]
    }
   ],
   "source": [
    "print(\n",
    "    df.select(\"employee_id\",\n",
    "           pl.when(\n",
    "               pl.col(\"employee_id\")%2 == 1, \n",
    "               ~pl.col(\"name\").str.starts_with(\"M\"))\n",
    "           .then(pl.col(\"salary\"))\n",
    "           .otherwise(0)\n",
    "           .alias(\"bonus\"))\n",
    "    .sort(\"employee_id\")\n",
    ")"
   ]
  },
  {
   "cell_type": "markdown",
   "id": "a60f3350-e8b8-41ee-b480-5d7061eb22d4",
   "metadata": {},
   "source": [
    "### [1890. The Latest Login in 2020](https://leetcode.com/problems/the-latest-login-in-2020/)"
   ]
  },
  {
   "cell_type": "code",
   "execution_count": 6,
   "id": "4fb0f030-d012-4f41-ba45-6e64b5ecb4bf",
   "metadata": {
    "scrolled": true
   },
   "outputs": [
    {
     "name": "stdout",
     "output_type": "stream",
     "text": [
      "shape: (9, 2)\n",
      "┌─────────┬─────────────────────┐\n",
      "│ user_id ┆ time_stamp          │\n",
      "│ ---     ┆ ---                 │\n",
      "│ i64     ┆ datetime[μs]        │\n",
      "╞═════════╪═════════════════════╡\n",
      "│ 6       ┆ 2020-06-30 15:06:07 │\n",
      "│ 6       ┆ 2021-04-21 14:06:06 │\n",
      "│ 6       ┆ 2019-03-07 00:18:15 │\n",
      "│ 8       ┆ 2020-02-01 05:10:53 │\n",
      "│ 8       ┆ 2020-12-30 00:46:50 │\n",
      "│ 2       ┆ 2020-01-16 02:49:50 │\n",
      "│ 2       ┆ 2019-08-25 07:59:08 │\n",
      "│ 14      ┆ 2019-07-14 09:00:00 │\n",
      "│ 14      ┆ 2021-01-06 11:59:59 │\n",
      "└─────────┴─────────────────────┘\n"
     ]
    }
   ],
   "source": [
    "print(df:=pl.read_csv(DATA_DIR / \"1890.csv\", dtypes={\"time_stamp\": pl.Datetime}))"
   ]
  },
  {
   "cell_type": "markdown",
   "id": "9b0c31f2-b1ed-4738-b6c5-8cc325e28770",
   "metadata": {},
   "source": [
    "PostgreSQL\n",
    "```postgresql\n",
    "select user_id, max(time_stamp) as last_stamp\n",
    "from Logins\n",
    "where extract(year from time_stamp) = 2020\n",
    "group by user_id\n",
    "```"
   ]
  },
  {
   "cell_type": "code",
   "execution_count": 7,
   "id": "df5e31db-5ef3-43ab-b7af-a0938fdaf899",
   "metadata": {
    "editable": true,
    "scrolled": true,
    "slideshow": {
     "slide_type": ""
    },
    "tags": []
   },
   "outputs": [
    {
     "name": "stdout",
     "output_type": "stream",
     "text": [
      "shape: (3, 2)\n",
      "┌─────────┬─────────────────────┐\n",
      "│ user_id ┆ last_stamp          │\n",
      "│ ---     ┆ ---                 │\n",
      "│ i64     ┆ datetime[μs]        │\n",
      "╞═════════╪═════════════════════╡\n",
      "│ 8       ┆ 2020-12-30 00:46:50 │\n",
      "│ 2       ┆ 2020-01-16 02:49:50 │\n",
      "│ 6       ┆ 2020-06-30 15:06:07 │\n",
      "└─────────┴─────────────────────┘\n"
     ]
    }
   ],
   "source": [
    "print(\n",
    "    df.filter(pl.col(\"time_stamp\").dt.year() == 2020)\n",
    "     .group_by(\"user_id\")\n",
    "     .agg(last_stamp=pl.max(\"time_stamp\"))\n",
    ")"
   ]
  },
  {
   "cell_type": "markdown",
   "id": "e4d9ef8b-a01b-4e3f-baee-c68b91aeca1b",
   "metadata": {},
   "source": [
    "### [1965. Employees with Missing Information](https://leetcode.com/problems/employees-with-missing-information/)"
   ]
  },
  {
   "cell_type": "code",
   "execution_count": 5,
   "id": "76ea6819-c58d-4416-82a1-478dffb8cf41",
   "metadata": {},
   "outputs": [
    {
     "name": "stdout",
     "output_type": "stream",
     "text": [
      "shape: (3, 2)\n",
      "┌─────────────┬──────────┐\n",
      "│ employee_id ┆ name     │\n",
      "│ ---         ┆ ---      │\n",
      "│ i64         ┆ str      │\n",
      "╞═════════════╪══════════╡\n",
      "│ 2           ┆ Crew     │\n",
      "│ 4           ┆ Haven    │\n",
      "│ 5           ┆ Kristian │\n",
      "└─────────────┴──────────┘ shape: (3, 2)\n",
      "┌─────────────┬────────┐\n",
      "│ employee_id ┆ salary │\n",
      "│ ---         ┆ ---    │\n",
      "│ i64         ┆ i64    │\n",
      "╞═════════════╪════════╡\n",
      "│ 5           ┆ 76071  │\n",
      "│ 1           ┆ 22517  │\n",
      "│ 4           ┆ 63539  │\n",
      "└─────────────┴────────┘\n"
     ]
    }
   ],
   "source": [
    "df_employees = pl.read_csv(DATA_DIR / \"1965_employees.csv\")\n",
    "df_salaries = pl.read_csv(DATA_DIR / \"1965_salaries.csv\")\n",
    "print(df_employees, df_salaries)"
   ]
  },
  {
   "cell_type": "markdown",
   "id": "e4da2436-bdb4-4df3-b374-0e0519e8abaa",
   "metadata": {},
   "source": [
    "PostgreSQL\n",
    "```postgresql\n",
    "select employee_id\n",
    "from Employees e full join Salaries s using (employee_id)\n",
    "where name is null or salary is null\n",
    "order by employee_id\n",
    "```"
   ]
  },
  {
   "cell_type": "code",
   "execution_count": 7,
   "id": "f4e04561-978b-4992-8e08-8c1fb3eeb700",
   "metadata": {
    "editable": true,
    "scrolled": true,
    "slideshow": {
     "slide_type": ""
    },
    "tags": []
   },
   "outputs": [
    {
     "name": "stdout",
     "output_type": "stream",
     "text": [
      "shape: (2, 1)\n",
      "┌─────────────┐\n",
      "│ employee_id │\n",
      "│ ---         │\n",
      "│ i64         │\n",
      "╞═════════════╡\n",
      "│ 1           │\n",
      "│ 2           │\n",
      "└─────────────┘\n"
     ]
    }
   ],
   "source": [
    "print(\n",
    "    df_employees.join(df_salaries, on=\"employee_id\", how=\"outer\")\n",
    "    .filter(pl.col(\"name\").is_null() | pl.col(\"salary\").is_null())\n",
    "    .select(\"employee_id\")\n",
    "    .sort(\"employee_id\")\n",
    ")"
   ]
  },
  {
   "cell_type": "code",
   "execution_count": null,
   "id": "9ac396f2-3177-46a8-b37b-35dc1f4dd8db",
   "metadata": {},
   "outputs": [],
   "source": []
  }
 ],
 "metadata": {
  "kernelspec": {
   "display_name": "Python 3 (ipykernel)",
   "language": "python",
   "name": "python3"
  },
  "language_info": {
   "codemirror_mode": {
    "name": "ipython",
    "version": 3
   },
   "file_extension": ".py",
   "mimetype": "text/x-python",
   "name": "python",
   "nbconvert_exporter": "python",
   "pygments_lexer": "ipython3",
   "version": "3.10.12"
  }
 },
 "nbformat": 4,
 "nbformat_minor": 5
}
